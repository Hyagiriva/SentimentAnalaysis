{
 "cells": [
  {
   "cell_type": "code",
   "execution_count": 49,
   "metadata": {},
   "outputs": [],
   "source": [
    "import pandas as pd\n",
    "df = pd.read_excel('final1.xlsx')\n"
   ]
  },
  {
   "cell_type": "code",
   "execution_count": 50,
   "metadata": {},
   "outputs": [
    {
     "data": {
      "text/plain": [
       "array([False, False,  True,  True,  True,  True,  True,  True,  True,\n",
       "        True,  True,  True,  True,  True,  True,  True,  True,  True,\n",
       "        True,  True,  True,  True,  True,  True,  True,  True,  True,\n",
       "        True])"
      ]
     },
     "execution_count": 50,
     "metadata": {},
     "output_type": "execute_result"
    }
   ],
   "source": [
    "df1= df.columns.str.contains('Unnamed')\n",
    "df1"
   ]
  },
  {
   "cell_type": "code",
   "execution_count": 51,
   "metadata": {},
   "outputs": [
    {
     "data": {
      "text/html": [
       "<div>\n",
       "<style scoped>\n",
       "    .dataframe tbody tr th:only-of-type {\n",
       "        vertical-align: middle;\n",
       "    }\n",
       "\n",
       "    .dataframe tbody tr th {\n",
       "        vertical-align: top;\n",
       "    }\n",
       "\n",
       "    .dataframe thead th {\n",
       "        text-align: right;\n",
       "    }\n",
       "</style>\n",
       "<table border=\"1\" class=\"dataframe\">\n",
       "  <thead>\n",
       "    <tr style=\"text-align: right;\">\n",
       "      <th></th>\n",
       "      <th>label</th>\n",
       "      <th>Review</th>\n",
       "    </tr>\n",
       "  </thead>\n",
       "  <tbody>\n",
       "    <tr>\n",
       "      <th>0</th>\n",
       "      <td>zero</td>\n",
       "      <td>I grew up (b. 1965) watching and loving the Th...</td>\n",
       "    </tr>\n",
       "    <tr>\n",
       "      <th>1</th>\n",
       "      <td>zero</td>\n",
       "      <td>When I put this movie in my DVD player, and sa...</td>\n",
       "    </tr>\n",
       "    <tr>\n",
       "      <th>2</th>\n",
       "      <td>zero</td>\n",
       "      <td>Why do people who do not know what a particula...</td>\n",
       "    </tr>\n",
       "    <tr>\n",
       "      <th>3</th>\n",
       "      <td>zero</td>\n",
       "      <td>Even though I have great interest in Biblical ...</td>\n",
       "    </tr>\n",
       "    <tr>\n",
       "      <th>4</th>\n",
       "      <td>one</td>\n",
       "      <td>Im a die hard Dads Army fan and nothing will e...</td>\n",
       "    </tr>\n",
       "    <tr>\n",
       "      <th>...</th>\n",
       "      <td>...</td>\n",
       "      <td>...</td>\n",
       "    </tr>\n",
       "    <tr>\n",
       "      <th>39985</th>\n",
       "      <td>one</td>\n",
       "      <td>\"Western Union\" is something of a forgotten cl...</td>\n",
       "    </tr>\n",
       "    <tr>\n",
       "      <th>39986</th>\n",
       "      <td>one</td>\n",
       "      <td>This movie is an incredible piece of work. It ...</td>\n",
       "    </tr>\n",
       "    <tr>\n",
       "      <th>39987</th>\n",
       "      <td>zero</td>\n",
       "      <td>My wife and I watched this movie because we pl...</td>\n",
       "    </tr>\n",
       "    <tr>\n",
       "      <th>39988</th>\n",
       "      <td>one</td>\n",
       "      <td>When I first watched Flatliners, I was amazed....</td>\n",
       "    </tr>\n",
       "    <tr>\n",
       "      <th>39989</th>\n",
       "      <td>one</td>\n",
       "      <td>Why would this film be so good, but only gross...</td>\n",
       "    </tr>\n",
       "  </tbody>\n",
       "</table>\n",
       "<p>39990 rows × 2 columns</p>\n",
       "</div>"
      ],
      "text/plain": [
       "      label                                             Review\n",
       "0      zero  I grew up (b. 1965) watching and loving the Th...\n",
       "1      zero  When I put this movie in my DVD player, and sa...\n",
       "2      zero  Why do people who do not know what a particula...\n",
       "3      zero  Even though I have great interest in Biblical ...\n",
       "4       one  Im a die hard Dads Army fan and nothing will e...\n",
       "...     ...                                                ...\n",
       "39985   one  \"Western Union\" is something of a forgotten cl...\n",
       "39986   one  This movie is an incredible piece of work. It ...\n",
       "39987  zero  My wife and I watched this movie because we pl...\n",
       "39988   one  When I first watched Flatliners, I was amazed....\n",
       "39989   one  Why would this film be so good, but only gross...\n",
       "\n",
       "[39990 rows x 2 columns]"
      ]
     },
     "execution_count": 51,
     "metadata": {},
     "output_type": "execute_result"
    }
   ],
   "source": [
    "df2=df.drop(df[df.columns[df1]], axis=1)\n",
    "df2"
   ]
  },
  {
   "cell_type": "code",
   "execution_count": 29,
   "metadata": {},
   "outputs": [
    {
     "data": {
      "text/plain": [
       "label     0\n",
       "Review    0\n",
       "dtype: int64"
      ]
     },
     "execution_count": 29,
     "metadata": {},
     "output_type": "execute_result"
    }
   ],
   "source": [
    "df2.isna().sum()"
   ]
  },
  {
   "cell_type": "code",
   "execution_count": 52,
   "metadata": {},
   "outputs": [
    {
     "name": "stdout",
     "output_type": "stream",
     "text": [
      "Checking whether there is an H2O instance running at http://localhost:54321. connected.\n"
     ]
    },
    {
     "data": {
      "text/html": [
       "\n",
       "<style>\n",
       "\n",
       "#h2o-table-8.h2o-container {\n",
       "  overflow-x: auto;\n",
       "}\n",
       "#h2o-table-8 .h2o-table {\n",
       "  /* width: 100%; */\n",
       "  margin-top: 1em;\n",
       "  margin-bottom: 1em;\n",
       "}\n",
       "#h2o-table-8 .h2o-table caption {\n",
       "  white-space: nowrap;\n",
       "  caption-side: top;\n",
       "  text-align: left;\n",
       "  /* margin-left: 1em; */\n",
       "  margin: 0;\n",
       "  font-size: larger;\n",
       "}\n",
       "#h2o-table-8 .h2o-table thead {\n",
       "  white-space: nowrap; \n",
       "  position: sticky;\n",
       "  top: 0;\n",
       "  box-shadow: 0 -1px inset;\n",
       "}\n",
       "#h2o-table-8 .h2o-table tbody {\n",
       "  overflow: auto;\n",
       "}\n",
       "#h2o-table-8 .h2o-table th,\n",
       "#h2o-table-8 .h2o-table td {\n",
       "  text-align: right;\n",
       "  /* border: 1px solid; */\n",
       "}\n",
       "#h2o-table-8 .h2o-table tr:nth-child(even) {\n",
       "  /* background: #F5F5F5 */\n",
       "}\n",
       "\n",
       "</style>      \n",
       "<div id=\"h2o-table-8\" class=\"h2o-container\">\n",
       "  <table class=\"h2o-table\">\n",
       "    <caption></caption>\n",
       "    <thead></thead>\n",
       "    <tbody><tr><td>H2O_cluster_uptime:</td>\n",
       "<td>1 hour 17 mins</td></tr>\n",
       "<tr><td>H2O_cluster_timezone:</td>\n",
       "<td>Asia/Kolkata</td></tr>\n",
       "<tr><td>H2O_data_parsing_timezone:</td>\n",
       "<td>UTC</td></tr>\n",
       "<tr><td>H2O_cluster_version:</td>\n",
       "<td>3.40.0.4</td></tr>\n",
       "<tr><td>H2O_cluster_version_age:</td>\n",
       "<td>3 days</td></tr>\n",
       "<tr><td>H2O_cluster_name:</td>\n",
       "<td>H2O_from_python_Hyagiriva_3ctmnk</td></tr>\n",
       "<tr><td>H2O_cluster_total_nodes:</td>\n",
       "<td>1</td></tr>\n",
       "<tr><td>H2O_cluster_free_memory:</td>\n",
       "<td>1.165 Gb</td></tr>\n",
       "<tr><td>H2O_cluster_total_cores:</td>\n",
       "<td>8</td></tr>\n",
       "<tr><td>H2O_cluster_allowed_cores:</td>\n",
       "<td>8</td></tr>\n",
       "<tr><td>H2O_cluster_status:</td>\n",
       "<td>locked, healthy</td></tr>\n",
       "<tr><td>H2O_connection_url:</td>\n",
       "<td>http://localhost:54321</td></tr>\n",
       "<tr><td>H2O_connection_proxy:</td>\n",
       "<td>{\"http\": null, \"https\": null}</td></tr>\n",
       "<tr><td>H2O_internal_security:</td>\n",
       "<td>False</td></tr>\n",
       "<tr><td>Python_version:</td>\n",
       "<td>3.9.12 final</td></tr></tbody>\n",
       "  </table>\n",
       "</div>\n"
      ],
      "text/plain": [
       "--------------------------  --------------------------------\n",
       "H2O_cluster_uptime:         1 hour 17 mins\n",
       "H2O_cluster_timezone:       Asia/Kolkata\n",
       "H2O_data_parsing_timezone:  UTC\n",
       "H2O_cluster_version:        3.40.0.4\n",
       "H2O_cluster_version_age:    3 days\n",
       "H2O_cluster_name:           H2O_from_python_Hyagiriva_3ctmnk\n",
       "H2O_cluster_total_nodes:    1\n",
       "H2O_cluster_free_memory:    1.165 Gb\n",
       "H2O_cluster_total_cores:    8\n",
       "H2O_cluster_allowed_cores:  8\n",
       "H2O_cluster_status:         locked, healthy\n",
       "H2O_connection_url:         http://localhost:54321\n",
       "H2O_connection_proxy:       {\"http\": null, \"https\": null}\n",
       "H2O_internal_security:      False\n",
       "Python_version:             3.9.12 final\n",
       "--------------------------  --------------------------------"
      ]
     },
     "metadata": {},
     "output_type": "display_data"
    }
   ],
   "source": [
    "# install and import H2o ! pip install h2o\n",
    "import h2o\n",
    "# We will be using default parameter Here with H2O init method\n",
    "h2o.init()\n"
   ]
  },
  {
   "cell_type": "code",
   "execution_count": 53,
   "metadata": {},
   "outputs": [
    {
     "name": "stdout",
     "output_type": "stream",
     "text": [
      "Parse progress: |████████████████████████████████████████████████████████████████| (done) 100%\n"
     ]
    },
    {
     "data": {
      "text/html": [
       "<pre style='margin: 1em 0 1em 0;'>Rows:39990\n",
       "Cols:2\n",
       "</pre>"
      ],
      "text/plain": [
       "Rows:39990\n",
       "Cols:2\n"
      ]
     },
     "metadata": {},
     "output_type": "display_data"
    },
    {
     "data": {
      "text/html": [
       "<table class='dataframe'>\n",
       "<thead>\n",
       "<tr><th>       </th><th>label  </th><th>Review                                                                                                                                                                                                                                                                                                                                                                                                                                                                                                                                                                                                                                                                                                                                                                                                                                                                                                                                                                                                                                                                                                                                                                                                                                                                                                                                                                                                                                                                                                                                                                                                                                                                                                                                                                                                                                                                             </th></tr>\n",
       "</thead>\n",
       "<tbody>\n",
       "<tr><td>type   </td><td>enum   </td><td>string                                                                                                                                                                                                                                                                                                                                                                                                                                                                                                                                                                                                                                                                                                                                                                                                                                                                                                                                                                                                                                                                                                                                                                                                                                                                                                                                                                                                                                                                                                                                                                                                                                                                                                                                                                                                                                                                             </td></tr>\n",
       "<tr><td>mins   </td><td>       </td><td>NaN                                                                                                                                                                                                                                                                                                                                                                                                                                                                                                                                                                                                                                                                                                                                                                                                                                                                                                                                                                                                                                                                                                                                                                                                                                                                                                                                                                                                                                                                                                                                                                                                                                                                                                                                                                                                                                                                                </td></tr>\n",
       "<tr><td>mean   </td><td>       </td><td>NaN                                                                                                                                                                                                                                                                                                                                                                                                                                                                                                                                                                                                                                                                                                                                                                                                                                                                                                                                                                                                                                                                                                                                                                                                                                                                                                                                                                                                                                                                                                                                                                                                                                                                                                                                                                                                                                                                                </td></tr>\n",
       "<tr><td>maxs   </td><td>       </td><td>NaN                                                                                                                                                                                                                                                                                                                                                                                                                                                                                                                                                                                                                                                                                                                                                                                                                                                                                                                                                                                                                                                                                                                                                                                                                                                                                                                                                                                                                                                                                                                                                                                                                                                                                                                                                                                                                                                                                </td></tr>\n",
       "<tr><td>sigma  </td><td>       </td><td>NaN                                                                                                                                                                                                                                                                                                                                                                                                                                                                                                                                                                                                                                                                                                                                                                                                                                                                                                                                                                                                                                                                                                                                                                                                                                                                                                                                                                                                                                                                                                                                                                                                                                                                                                                                                                                                                                                                                </td></tr>\n",
       "<tr><td>zeros  </td><td>       </td><td>0                                                                                                                                                                                                                                                                                                                                                                                                                                                                                                                                                                                                                                                                                                                                                                                                                                                                                                                                                                                                                                                                                                                                                                                                                                                                                                                                                                                                                                                                                                                                                                                                                                                                                                                                                                                                                                                                                  </td></tr>\n",
       "<tr><td>missing</td><td>0      </td><td>0                                                                                                                                                                                                                                                                                                                                                                                                                                                                                                                                                                                                                                                                                                                                                                                                                                                                                                                                                                                                                                                                                                                                                                                                                                                                                                                                                                                                                                                                                                                                                                                                                                                                                                                                                                                                                                                                                  </td></tr>\n",
       "<tr><td>0      </td><td>zero   </td><td>I grew up (b. 1965) watching and loving the Thunderbirds. All my mates at school watched. We played &quot;Thunderbirds&quot; before school, during lunch and after school. We all wanted to be Virgil or Scott. No one wanted to be Alan. Counting down from 5 became an art form. I took my children to see the movie hoping they would get a glimpse of what I loved as a child. How bitterly disappointing. The only high point was the snappy theme tune. Not that it could compare with the original score of the Thunderbirds. Thankfully early Saturday mornings one television channel still plays reruns of the series Gerry Anderson and his wife created. Jonatha Frakes should hand in his directors chair, his version was completely hopeless. A waste of film. Utter rubbish. A CGI remake may be acceptable but replacing marionettes with Homo sapiens subsp. sapiens was a huge error of judgment.                                                                                                                                                                                                                                                                                                                                                                                                                                                                                                                                                                                                                                                                                                                                                                                                                                                                                                                                                                         </td></tr>\n",
       "<tr><td>1      </td><td>zero   </td><td>When I put this movie in my DVD player, and sat down with a coke and some chips, I had some expectations. I was hoping that this movie would contain some of the strong-points of the first movie: Awsome animation, good flowing story, excellent voice cast, funny comedy and a kick-ass soundtrack. But, to my disappointment, not any of this is to be found in Atlantis: Milo&#x27;s Return. Had I read some reviews first, I might not have been so let down. The following paragraph will be directed to those who have seen the first movie, and who enjoyed it primarily for the points mentioned.&lt;br /&gt;&lt;br /&gt;When the first scene appears, your in for a shock if you just picked Atlantis: Milo&#x27;s Return from the display-case at your local videoshop (or whatever), and had the expectations I had. The music feels as a bad imitation of the first movie, and the voice cast has been replaced by a not so fitting one. (With the exception of a few characters, like the voice of Sweet). The actual drawings isnt that bad, but the animation in particular is a sad sight. The storyline is also pretty weak, as its more like three episodes of Schooby-Doo than the single adventurous story we got the last time. But dont misunderstand, it&#x27;s not very good Schooby-Doo episodes. I didnt laugh a single time, although I might have sniggered once or twice.&lt;br /&gt;&lt;br /&gt;To the audience who haven&#x27;t seen the first movie, or don&#x27;t especially care for a similar sequel, here is a fast review of this movie as a stand-alone product: If you liked schooby-doo, you might like this movie. If you didn&#x27;t, you could still enjoy this movie if you have nothing else to do. And I suspect it might be a good kids movie, but I wouldn&#x27;t know. It might have been better if Milo&#x27;s Return had been a three-episode series on a cartoon channel, or on breakfast TV.</td></tr>\n",
       "<tr><td>2      </td><td>zero   </td><td>Why do people who do not know what a particular time in the past was like feel the need to try to define that time for others? Replace Woodstock with the Civil War and the Apollo moon-landing with the Titanic sinking and you&#x27;ve got as realistic a flick as this formulaic soap opera populated entirely by low-life trash. Is this what kids who were too young to be allowed to go to Woodstock and who failed grade school composition do? &quot;I&#x27;ll show those old meanies, I&#x27;ll put out my own movie and prove that you don&#x27;t have to know nuttin about your topic to still make money!&quot; Yeah, we already know that. The one thing watching this film did for me was to give me a little insight into underclass thinking. The next time I see a slut in a bar who looks like Diane Lane, I&#x27;m running the other way. It&#x27;s child abuse to let parents that worthless raise kids. It&#x27;s audience abuse to simply stick Woodstock and the moonlanding into a flick as if that ipso facto means the film portrays 1969.                                                                                                                                                                                                                                                                                                                                                                                                                                                                                                                                                                                                                                                                                                                                                                                                                                                            </td></tr>\n",
       "<tr><td>3      </td><td>zero   </td><td>Even though I have great interest in Biblical movies, I was bored to death every minute of the movie. Everything is bad. The movie is too long, the acting is most of the time a Joke and the script is horrible. I did not get the point in mixing the story about Abraham and Noah together. So if you value your time and sanity stay away from this horror.                                                                                                                                                                                                                                                                                                                                                                                                                                                                                                                                                                                                                                                                                                                                                                                                                                                                                                                                                                                                                                                                                                                                                                                                                                                                                                                                                                                                                                                                                                                    </td></tr>\n",
       "<tr><td>4      </td><td>one    </td><td>Im a die hard Dads Army fan and nothing will ever change that. I got all the tapes, DVD&#x27;s and audiobooks and every time i watch/listen to them its brand new. &lt;br /&gt;&lt;br /&gt;The film. The film is a re run of certain episodes, Man and the hour, Enemy within the gates, Battle School and numerous others with a different edge. Introduction of a new General instead of Captain Square was a brilliant move - especially when he wouldn&#x27;t cash the cheque (something that is rarely done now).&lt;br /&gt;&lt;br /&gt;It follows through the early years of getting equipment and uniforms, starting up and training. All in all, its a great film for a boring Sunday afternoon. &lt;br /&gt;&lt;br /&gt;Two draw backs. One is the Germans bogus dodgy accents (come one, Germans cant pronounced the letter &quot;W&quot; like us) and Two The casting of Liz Frazer instead of the familiar Janet Davis. I like Liz in other films like the carry ons but she doesn&#x27;t carry it correctly in this and Janet Davis would have been the better choice.                                                                                                                                                                                                                                                                                                                                                                                                                                                                                                                                                                                                                                                                                                                                                                                                                                                            </td></tr>\n",
       "<tr><td>5      </td><td>zero   </td><td>A terrible movie as everyone has said. What made me laugh was the cameo appearance by Scott McNealy, giving an award to one of the murdered programmers in front of a wall of SUN logos. McNealy is the CEO of SUN Microsystem, a company that practically defines itself by its hatred of Microsoft. They have been instrumental in filing antitrust complaints against Microsoft. So, were they silly enough to think this bad movie would add fuel to that fire?&lt;br /&gt;&lt;br /&gt;There&#x27;s no public record I see of SUN&#x27;s involvement, but clearly the makers of this movie know Scott McNealy. An interesting mystery.                                                                                                                                                                                                                                                                                                                                                                                                                                                                                                                                                                                                                                                                                                                                                                                                                                                                                                                                                                                                                                                                                                                                                                                                                                                               </td></tr>\n",
       "<tr><td>6      </td><td>one    </td><td>Finally watched this shocking movie last night, and what a disturbing mindf**ker it is, and unbelievably bloody and some unforgettable scenes, and a total assault on the senses. Looks like a movie from the minds of Lynch (specifically ERASERHEAD), Buttgereit, and even a little of &quot;Begotten&quot;. What this guy does to his pregnant sister is beyond belief, but then again, did it really happen or is it his brain&#x27;s left and right sides doing battle. That&#x27;s the main theme of this piece of art, to draw a fine line between fantasy and reality, and what would happen if the right side of the brain that dreams and fantasizes overtakes the reasoning and logical left side. And the music in this movie is unbelievable, a kind of electronic score that is absolutely perfect. Even though this movie is totally shocking and pretty disgusting in some of the most extreme scenes (including hard core sex) you will ever see in any movie, I viewed it as a work of art, and loved it. And that music still amazes me, I have to try and find the soundtrack if is available. Watching &quot;Subconscious Cruelty&quot; is a real event, and not something the viewer will easily forget. And a note to gorehounds, this is a must-have.&lt;br /&gt;&lt;br /&gt;Warning... Be careful buying this movie, because some prints have fogging on the graphic sex scenes and extreme gore, especially the copies from the Japanese release.                                                                                                                                                                                                                                                                                                                                                                                                                                                  </td></tr>\n",
       "<tr><td>7      </td><td>zero   </td><td>I caught this film on AZN on cable. It sounded like it would be a good film, a Japanese &quot;Green Card&quot;. I can&#x27;t say I&#x27;ve ever disliked an Asian film, quite the contrary. Some of the most incredible horror films of all time are Japanese and Korean, and I am a HUGE fan of John Woo&#x27;s Hong Kong films. I an not adverse to a light hearted films, like Tampopo or Chung King Express (two of my favourites), so I thought I would like this. Well, I would rather slit my wrists and drink my own blood than watch this laborious, badly acted film ever again.&lt;br /&gt;&lt;br /&gt;I think the director Steven Okazaki must have spiked the water with Quaalude, because no one in this film had a personality. And when any of the characters DID try to act, as opposed to mumbling a line or two, their performance came across as forced and incredibly fake. I honestly did not think that anyone had ever acted before...the ONLY person who sounded genuine was Brenda Aoki.. I find it amazing that this is promoted as a comedy, because I didn&#x27;t laugh once. Even MORE surprising is that CBS morning news called this &quot;a refreshing breath of comedy&quot;. It was neither refreshing, nor a breath of comedy. And the ending was very predictable, the previous reviewer must be an idiot to think such things.&lt;br /&gt;&lt;br /&gt;AVOID this film unless you want to see a boring predictable plot line and wooden acting. I actually think that &quot;Spike of Bensonhurst&quot; is a better acted film than this...and I walked out half way through that film!                                                                                                                                                                                                                                                                                                                                  </td></tr>\n",
       "<tr><td>8      </td><td>one    </td><td>It may be the remake of 1987 Autumn&#x27;s Tale after eleven years, as the director Mabel Cheung claimed. Mabel employs rock music as the medium in this movie to express her personal attitude to life, in which love, desire and the consequential frustration play significantly crucial roles. Rock music may not be the best vehicle to convey the profound sentiment, and yet it is not too inappropriate to utilize it as the life of underground rock musicians is bitterly more intense than an ordinary one. The director focuses on the depiction of subtle affection and ultimate vanity of life rather than mere rock music. The love between father and son, lovers, and friends is delicately and touchingly delivered through the fine performance. Mabel does not attempt to beautify rock musicians as artists at all, instead, she tries to reproduce a true life on screen, making huge efforts of years&#x27; working on this project and gathering information in Beijing underground pubs.&lt;br /&gt;&lt;br /&gt;Daniel has given probably the best performance in all his movies made so far. His innate dispiritedness and reticence fit the blue mood of the film perfectly.                                                                                                                                                                                                                                                                                                                                                                                                                                                                                                                                                                                                                                                                                                  </td></tr>\n",
       "<tr><td>9      </td><td>one    </td><td>My Super Ex Girlfriend turned out to be a pleasant surprise for me, I was really expecting a horrible movie that would probably be stupid and predictable, and you know what? It was! But this movie did have so many wonderful laughs and a fun plot that anyone could get a kick out of. I know that this was a very cheesy movie, but Uma and Anna were just so cool and Steve was such a great addition along with a great cast that looked like they had so much fun and that&#x27;s what made the movie really work.&lt;br /&gt;&lt;br /&gt;Jenny Johnson(scary, that&#x27;s my best friend&#x27;s actual name) is not your typical average librarian looking woman, when Matt, your average male, asks her out, he&#x27;s in for more than he expected, he&#x27;s asked G-Girl out on a date, the super hero of the world! But when he finds out what a jealous and crazy girl she really is and decides that it may be a good idea that they spend some time apart, but Jenny won&#x27;t have it since he&#x27;s fallen for another girl, Hannah, and she will make his life a living hell, I mean, let&#x27;s face it, he couldn&#x27;t have chosen a better girl to break up with.&lt;br /&gt;&lt;br /&gt;The effect were corny, but you seriously move past them quickly, the story and cast made the story really work and I loved Uma in this movie, it was such a step up from Prime. My Super Ex Girlfriend is a fun movie that you shouldn&#x27;t really take seriously, it&#x27;s just a cute romantic comedy that I think if I could get a laugh out of it, anyone could.&lt;br /&gt;&lt;br /&gt;7/10                                                                                                                                                                                                                                                                                                                                                       </td></tr>\n",
       "</tbody>\n",
       "</table><pre style='font-size: smaller; margin-bottom: 1em;'>[39990 rows x 2 columns]</pre>"
      ],
      "text/plain": [
       "         label    Review\n",
       "-------  -------  -----------------------------------------------------------------------------------------------------------------------------------------------------------------------------------------------------------------------------------------------------------------------------------------------------------------------------------------------------------------------------------------------------------------------------------------------------------------------------------------------------------------------------------------------------------------------------------------------------------------------------------------------------------------------------------------------------------------------------------------------------------------------------------------------------------------------------------------------------------------------------------------------------------------------------------------------------------------------------------------------------------------------------------------------------------------------------------------------------------------------------------------------------------------------------------------------------------------------------------------------------------------------------------------------------------------------------------------------------------------------------------------------------------------------------------------------------------------------------------------------------------------------------------------------------------------------------------------------------------------------------------------------------------------------------------------------------------------------------------------------------------------------------------------------------------------------------------------------------------------------------------\n",
       "type     enum     string\n",
       "mins              NaN\n",
       "mean              NaN\n",
       "maxs              NaN\n",
       "sigma             NaN\n",
       "zeros             0\n",
       "missing  0        0\n",
       "0        zero     I grew up (b. 1965) watching and loving the Thunderbirds. All my mates at school watched. We played \"Thunderbirds\" before school, during lunch and after school. We all wanted to be Virgil or Scott. No one wanted to be Alan. Counting down from 5 became an art form. I took my children to see the movie hoping they would get a glimpse of what I loved as a child. How bitterly disappointing. The only high point was the snappy theme tune. Not that it could compare with the original score of the Thunderbirds. Thankfully early Saturday mornings one television channel still plays reruns of the series Gerry Anderson and his wife created. Jonatha Frakes should hand in his directors chair, his version was completely hopeless. A waste of film. Utter rubbish. A CGI remake may be acceptable but replacing marionettes with Homo sapiens subsp. sapiens was a huge error of judgment.\n",
       "1        zero     When I put this movie in my DVD player, and sat down with a coke and some chips, I had some expectations. I was hoping that this movie would contain some of the strong-points of the first movie: Awsome animation, good flowing story, excellent voice cast, funny comedy and a kick-ass soundtrack. But, to my disappointment, not any of this is to be found in Atlantis: Milo's Return. Had I read some reviews first, I might not have been so let down. The following paragraph will be directed to those who have seen the first movie, and who enjoyed it primarily for the points mentioned.<br /><br />When the first scene appears, your in for a shock if you just picked Atlantis: Milo's Return from the display-case at your local videoshop (or whatever), and had the expectations I had. The music feels as a bad imitation of the first movie, and the voice cast has been replaced by a not so fitting one. (With the exception of a few characters, like the voice of Sweet). The actual drawings isnt that bad, but the animation in particular is a sad sight. The storyline is also pretty weak, as its more like three episodes of Schooby-Doo than the single adventurous story we got the last time. But dont misunderstand, it's not very good Schooby-Doo episodes. I didnt laugh a single time, although I might have sniggered once or twice.<br /><br />To the audience who haven't seen the first movie, or don't especially care for a similar sequel, here is a fast review of this movie as a stand-alone product: If you liked schooby-doo, you might like this movie. If you didn't, you could still enjoy this movie if you have nothing else to do. And I suspect it might be a good kids movie, but I wouldn't know. It might have been better if Milo's Return had been a three-episode series on a cartoon channel, or on breakfast TV.\n",
       "2        zero     Why do people who do not know what a particular time in the past was like feel the need to try to define that time for others? Replace Woodstock with the Civil War and the Apollo moon-landing with the Titanic sinking and you've got as realistic a flick as this formulaic soap opera populated entirely by low-life trash. Is this what kids who were too young to be allowed to go to Woodstock and who failed grade school composition do? \"I'll show those old meanies, I'll put out my own movie and prove that you don't have to know nuttin about your topic to still make money!\" Yeah, we already know that. The one thing watching this film did for me was to give me a little insight into underclass thinking. The next time I see a slut in a bar who looks like Diane Lane, I'm running the other way. It's child abuse to let parents that worthless raise kids. It's audience abuse to simply stick Woodstock and the moonlanding into a flick as if that ipso facto means the film portrays 1969.\n",
       "3        zero     Even though I have great interest in Biblical movies, I was bored to death every minute of the movie. Everything is bad. The movie is too long, the acting is most of the time a Joke and the script is horrible. I did not get the point in mixing the story about Abraham and Noah together. So if you value your time and sanity stay away from this horror.\n",
       "4        one      Im a die hard Dads Army fan and nothing will ever change that. I got all the tapes, DVD's and audiobooks and every time i watch/listen to them its brand new. <br /><br />The film. The film is a re run of certain episodes, Man and the hour, Enemy within the gates, Battle School and numerous others with a different edge. Introduction of a new General instead of Captain Square was a brilliant move - especially when he wouldn't cash the cheque (something that is rarely done now).<br /><br />It follows through the early years of getting equipment and uniforms, starting up and training. All in all, its a great film for a boring Sunday afternoon. <br /><br />Two draw backs. One is the Germans bogus dodgy accents (come one, Germans cant pronounced the letter \"W\" like us) and Two The casting of Liz Frazer instead of the familiar Janet Davis. I like Liz in other films like the carry ons but she doesn't carry it correctly in this and Janet Davis would have been the better choice.\n",
       "5        zero     A terrible movie as everyone has said. What made me laugh was the cameo appearance by Scott McNealy, giving an award to one of the murdered programmers in front of a wall of SUN logos. McNealy is the CEO of SUN Microsystem, a company that practically defines itself by its hatred of Microsoft. They have been instrumental in filing antitrust complaints against Microsoft. So, were they silly enough to think this bad movie would add fuel to that fire?<br /><br />There's no public record I see of SUN's involvement, but clearly the makers of this movie know Scott McNealy. An interesting mystery.\n",
       "6        one      Finally watched this shocking movie last night, and what a disturbing mindf**ker it is, and unbelievably bloody and some unforgettable scenes, and a total assault on the senses. Looks like a movie from the minds of Lynch (specifically ERASERHEAD), Buttgereit, and even a little of \"Begotten\". What this guy does to his pregnant sister is beyond belief, but then again, did it really happen or is it his brain's left and right sides doing battle. That's the main theme of this piece of art, to draw a fine line between fantasy and reality, and what would happen if the right side of the brain that dreams and fantasizes overtakes the reasoning and logical left side. And the music in this movie is unbelievable, a kind of electronic score that is absolutely perfect. Even though this movie is totally shocking and pretty disgusting in some of the most extreme scenes (including hard core sex) you will ever see in any movie, I viewed it as a work of art, and loved it. And that music still amazes me, I have to try and find the soundtrack if is available. Watching \"Subconscious Cruelty\" is a real event, and not something the viewer will easily forget. And a note to gorehounds, this is a must-have.<br /><br />Warning... Be careful buying this movie, because some prints have fogging on the graphic sex scenes and extreme gore, especially the copies from the Japanese release.\n",
       "7        zero     I caught this film on AZN on cable. It sounded like it would be a good film, a Japanese \"Green Card\". I can't say I've ever disliked an Asian film, quite the contrary. Some of the most incredible horror films of all time are Japanese and Korean, and I am a HUGE fan of John Woo's Hong Kong films. I an not adverse to a light hearted films, like Tampopo or Chung King Express (two of my favourites), so I thought I would like this. Well, I would rather slit my wrists and drink my own blood than watch this laborious, badly acted film ever again.<br /><br />I think the director Steven Okazaki must have spiked the water with Quaalude, because no one in this film had a personality. And when any of the characters DID try to act, as opposed to mumbling a line or two, their performance came across as forced and incredibly fake. I honestly did not think that anyone had ever acted before...the ONLY person who sounded genuine was Brenda Aoki.. I find it amazing that this is promoted as a comedy, because I didn't laugh once. Even MORE surprising is that CBS morning news called this \"a refreshing breath of comedy\". It was neither refreshing, nor a breath of comedy. And the ending was very predictable, the previous reviewer must be an idiot to think such things.<br /><br />AVOID this film unless you want to see a boring predictable plot line and wooden acting. I actually think that \"Spike of Bensonhurst\" is a better acted film than this...and I walked out half way through that film!\n",
       "8        one      It may be the remake of 1987 Autumn's Tale after eleven years, as the director Mabel Cheung claimed. Mabel employs rock music as the medium in this movie to express her personal attitude to life, in which love, desire and the consequential frustration play significantly crucial roles. Rock music may not be the best vehicle to convey the profound sentiment, and yet it is not too inappropriate to utilize it as the life of underground rock musicians is bitterly more intense than an ordinary one. The director focuses on the depiction of subtle affection and ultimate vanity of life rather than mere rock music. The love between father and son, lovers, and friends is delicately and touchingly delivered through the fine performance. Mabel does not attempt to beautify rock musicians as artists at all, instead, she tries to reproduce a true life on screen, making huge efforts of years' working on this project and gathering information in Beijing underground pubs.<br /><br />Daniel has given probably the best performance in all his movies made so far. His innate dispiritedness and reticence fit the blue mood of the film perfectly.\n",
       "9        one      My Super Ex Girlfriend turned out to be a pleasant surprise for me, I was really expecting a horrible movie that would probably be stupid and predictable, and you know what? It was! But this movie did have so many wonderful laughs and a fun plot that anyone could get a kick out of. I know that this was a very cheesy movie, but Uma and Anna were just so cool and Steve was such a great addition along with a great cast that looked like they had so much fun and that's what made the movie really work.<br /><br />Jenny Johnson(scary, that's my best friend's actual name) is not your typical average librarian looking woman, when Matt, your average male, asks her out, he's in for more than he expected, he's asked G-Girl out on a date, the super hero of the world! But when he finds out what a jealous and crazy girl she really is and decides that it may be a good idea that they spend some time apart, but Jenny won't have it since he's fallen for another girl, Hannah, and she will make his life a living hell, I mean, let's face it, he couldn't have chosen a better girl to break up with.<br /><br />The effect were corny, but you seriously move past them quickly, the story and cast made the story really work and I loved Uma in this movie, it was such a step up from Prime. My Super Ex Girlfriend is a fun movie that you shouldn't really take seriously, it's just a cute romantic comedy that I think if I could get a laugh out of it, anyone could.<br /><br />7/10\n",
       "[39990 rows x 2 columns]\n"
      ]
     },
     "metadata": {},
     "output_type": "display_data"
    }
   ],
   "source": [
    "# convert pandas DataFrame into H2O Frame\n",
    "train_df = h2o.H2OFrame(df2)\n",
    "# Describe the train h20Frame\n",
    "train_df.describe()\n",
    "\n",
    "x = train_df.columns\n",
    "y = 'label'\n",
    "x.remove(y)"
   ]
  },
  {
   "cell_type": "code",
   "execution_count": 54,
   "metadata": {},
   "outputs": [],
   "source": [
    "# import autoML from H2O\n",
    "from h2o.automl import H2OAutoML\n",
    "# callh20automl function\n",
    "aml = H2OAutoML(max_runtime_secs = 3600*6,\n",
    "\t\t\t\t# exclude_algos =['DeepLearning'],\n",
    "\t\t\t\tseed = 1,\n",
    "\t\t\t\t# stopping_metric ='logloss',\n",
    "\t\t\t\t# sort_metric ='logloss',\n",
    "\t\t\t\tbalance_classes = False,\n",
    "\t\t\t\tproject_name ='Project1'\n",
    ")\n",
    "# train model and record time % time\n",
    "\n"
   ]
  },
  {
   "cell_type": "code",
   "execution_count": 55,
   "metadata": {},
   "outputs": [
    {
     "name": "stdout",
     "output_type": "stream",
     "text": [
      "AutoML progress: | (failed)\n",
      "\n",
      "14:44:55.355: AutoML: XGBoost is not available; skipping it.\n",
      "14:44:55.489: _train param, Dropping bad and constant columns: [Review]\n",
      "14:44:55.489: _response param, We have detected that your response column has only 2 unique values (0/1). If you wish to train a binary model instead of a regression model, convert your target column to categorical before training.\n",
      "14:44:55.489: _train param, Training data must have at least 2 features (incl. response).\n",
      "14:44:55.491: _train param, Dropping bad and constant columns: [Review]\n",
      "14:44:55.491: _response param, We have detected that your response column has only 2 unique values (0/1). If you wish to train a binary model instead of a regression model, convert your target column to categorical before training.\n",
      "14:44:55.491: _train param, Training data must have at least 2 features (incl. response).\n",
      "14:44:55.492: _train param, Dropping bad and constant columns: [Review]\n",
      "14:44:55.492: _response param, We have detected that your response column has only 2 unique values (0/1). If you wish to train a binary model instead of a regression model, convert your target column to categorical before training.\n",
      "14:44:55.492: _train param, Training data must have at least 2 features (incl. response).\n",
      "14:44:55.494: _train param, Dropping bad and constant columns: [Review]\n",
      "14:44:55.494: _response param, We have detected that your response column has only 2 unique values (0/1). If you wish to train a binary model instead of a regression model, convert your target column to categorical before training.\n",
      "14:44:55.494: _train param, Training data must have at least 2 features (incl. response).\n",
      "14:44:55.495: _train param, Dropping bad and constant columns: [Review]\n",
      "14:44:55.495: _response param, We have detected that your response column has only 2 unique values (0/1). If you wish to train a binary model instead of a regression model, convert your target column to categorical before training.\n",
      "14:44:55.496: _train param, Training data must have at least 2 features (incl. response).\n",
      "14:44:55.497: _train param, Dropping bad and constant columns: [Review]\n",
      "14:44:55.497: _response param, We have detected that your response column has only 2 unique values (0/1). If you wish to train a binary model instead of a regression model, convert your target column to categorical before training.\n",
      "14:44:55.497: _train param, Training data must have at least 2 features (incl. response).\n",
      "14:44:55.499: _train param, Dropping bad and constant columns: [Review]\n",
      "14:44:55.499: _response param, We have detected that your response column has only 2 unique values (0/1). If you wish to train a binary model instead of a regression model, convert your target column to categorical before training.\n",
      "14:44:55.499: _train param, Training data must have at least 2 features (incl. response).\n",
      "14:44:55.500: _train param, Dropping bad and constant columns: [Review]\n",
      "14:44:55.500: _response param, We have detected that your response column has only 2 unique values (0/1). If you wish to train a binary model instead of a regression model, convert your target column to categorical before training.\n",
      "14:44:55.500: _train param, Training data must have at least 2 features (incl. response).\n",
      "14:44:55.501: _train param, Dropping bad and constant columns: [Review]\n",
      "14:44:55.501: _response param, We have detected that your response column has only 2 unique values (0/1). If you wish to train a binary model instead of a regression model, convert your target column to categorical before training.\n",
      "14:44:55.501: _train param, Training data must have at least 2 features (incl. response).\n",
      "14:44:55.599: GBM_grid_1_AutoML_3_20230501_144455 [GBM Grid Search] failed: water.exceptions.H2OGridException: Aborting Grid search after too many consecutive model failures.\n",
      "14:44:55.605: Empty leaderboard.\n",
      "AutoML was not able to build any model within a max runtime constraint of 21600 seconds, you may want to increase this value before retrying.\n",
      "14:48:22.853: New models will be added to existing leaderboard Project1@@label (leaderboard frame=null) with already 0 models.\n",
      "14:48:22.853: AutoML: XGBoost is not available; skipping it.\n",
      "14:48:22.856: _train param, Dropping bad and constant columns: [Review]\n",
      "14:48:22.856: _train param, Training data must have at least 2 features (incl. response).\n",
      "14:48:22.943: _train param, Dropping bad and constant columns: [Review]\n",
      "14:48:22.943: _train param, Training data must have at least 2 features (incl. response).\n",
      "14:48:22.961: _train param, Dropping bad and constant columns: [Review]\n",
      "14:48:22.961: _train param, Training data must have at least 2 features (incl. response).\n",
      "14:48:22.964: _train param, Dropping bad and constant columns: [Review]\n",
      "14:48:22.964: _train param, Training data must have at least 2 features (incl. response).\n",
      "14:48:23.8: _train param, Dropping bad and constant columns: [Review]\n",
      "14:48:23.8: _train param, Training data must have at least 2 features (incl. response).\n",
      "14:48:23.14: _train param, Dropping bad and constant columns: [Review]\n",
      "14:48:23.14: _train param, Training data must have at least 2 features (incl. response).\n",
      "14:48:23.21: _train param, Dropping bad and constant columns: [Review]\n",
      "14:48:23.21: _train param, Training data must have at least 2 features (incl. response).\n",
      "14:48:23.27: _train param, Dropping bad and constant columns: [Review]\n",
      "14:48:23.27: _train param, Training data must have at least 2 features (incl. response).\n",
      "14:48:23.33: _train param, Dropping bad and constant columns: [Review]\n",
      "14:48:23.33: _train param, Training data must have at least 2 features (incl. response).\n",
      "14:48:23.310: GBM_grid_2_AutoML_4_20230501_144822 [GBM Grid Search] failed: water.exceptions.H2OGridException: Aborting Grid search after too many consecutive model failures.\n",
      "14:48:23.317: Empty leaderboard.\n",
      "AutoML was not able to build any model within a max runtime constraint of 21600 seconds, you may want to increase this value before retrying.\n",
      "\n"
     ]
    },
    {
     "ename": "OSError",
     "evalue": "Job with key $03017f00000132d4ffffffff$_baa05f74b3125a8f9868932d544449f7 failed with an exception: water.exceptions.H2OAutoMLException: Aborting AutoML after too many consecutive model failures\nstacktrace: \nwater.exceptions.H2OAutoMLException: Aborting AutoML after too many consecutive model failures\r\n\tat ai.h2o.automl.AutoML.learn(AutoML.java:776)\r\n\tat ai.h2o.automl.AutoML.run(AutoML.java:494)\r\n\tat ai.h2o.automl.H2OJob$1.compute2(H2OJob.java:33)\r\n\tat water.H2O$H2OCountedCompleter.compute(H2O.java:1677)\r\n\tat jsr166y.CountedCompleter.exec(CountedCompleter.java:468)\r\n\tat jsr166y.ForkJoinTask.doExec(ForkJoinTask.java:263)\r\n\tat jsr166y.ForkJoinPool$WorkQueue.runTask(ForkJoinPool.java:976)\r\n\tat jsr166y.ForkJoinPool.runWorker(ForkJoinPool.java:1479)\r\n\tat jsr166y.ForkJoinWorkerThread.run(ForkJoinWorkerThread.java:104)\r\n",
     "output_type": "error",
     "traceback": [
      "\u001b[1;31m---------------------------------------------------------------------------\u001b[0m",
      "\u001b[1;31mOSError\u001b[0m                                   Traceback (most recent call last)",
      "\u001b[1;32mc:\\Users\\Hyagiriva\\OneDrive\\Desktop\\docs\\IPPROJECT\\final year project\\SentimentAnalysis-master\\preprocess.ipynb Cell 8\u001b[0m in \u001b[0;36m<cell line: 1>\u001b[1;34m()\u001b[0m\n\u001b[1;32m----> <a href='vscode-notebook-cell:/c%3A/Users/Hyagiriva/OneDrive/Desktop/docs/IPPROJECT/final%20year%20project/SentimentAnalysis-master/preprocess.ipynb#X10sZmlsZQ%3D%3D?line=0'>1</a>\u001b[0m aml\u001b[39m.\u001b[39;49mtrain(x ,y, training_frame \u001b[39m=\u001b[39;49m train_df)\n",
      "File \u001b[1;32mc:\\Users\\Hyagiriva\\anaconda3\\lib\\site-packages\\h2o\\automl\\_estimator.py:679\u001b[0m, in \u001b[0;36mH2OAutoML.train\u001b[1;34m(self, x, y, training_frame, fold_column, weights_column, validation_frame, leaderboard_frame, blending_frame)\u001b[0m\n\u001b[0;32m    677\u001b[0m poll_updates \u001b[39m=\u001b[39m ft\u001b[39m.\u001b[39mpartial(\u001b[39mself\u001b[39m\u001b[39m.\u001b[39m_poll_training_updates, verbosity\u001b[39m=\u001b[39m\u001b[39mself\u001b[39m\u001b[39m.\u001b[39m_verbosity, state\u001b[39m=\u001b[39m{})\n\u001b[0;32m    678\u001b[0m \u001b[39mtry\u001b[39;00m:\n\u001b[1;32m--> 679\u001b[0m     \u001b[39mself\u001b[39;49m\u001b[39m.\u001b[39;49m_job\u001b[39m.\u001b[39;49mpoll(poll_updates\u001b[39m=\u001b[39;49mpoll_updates)\n\u001b[0;32m    680\u001b[0m \u001b[39mfinally\u001b[39;00m:\n\u001b[0;32m    681\u001b[0m     poll_updates(\u001b[39mself\u001b[39m\u001b[39m.\u001b[39m_job, \u001b[39m1\u001b[39m)\n",
      "File \u001b[1;32mc:\\Users\\Hyagiriva\\anaconda3\\lib\\site-packages\\h2o\\job.py:90\u001b[0m, in \u001b[0;36mH2OJob.poll\u001b[1;34m(self, poll_updates)\u001b[0m\n\u001b[0;32m     88\u001b[0m \u001b[39mif\u001b[39;00m \u001b[39mself\u001b[39m\u001b[39m.\u001b[39mstatus \u001b[39m==\u001b[39m \u001b[39m\"\u001b[39m\u001b[39mFAILED\u001b[39m\u001b[39m\"\u001b[39m:\n\u001b[0;32m     89\u001b[0m     \u001b[39mif\u001b[39;00m (\u001b[39misinstance\u001b[39m(\u001b[39mself\u001b[39m\u001b[39m.\u001b[39mjob, \u001b[39mdict\u001b[39m)) \u001b[39mand\u001b[39;00m (\u001b[39m\"\u001b[39m\u001b[39mstacktrace\u001b[39m\u001b[39m\"\u001b[39m \u001b[39min\u001b[39;00m \u001b[39mlist\u001b[39m(\u001b[39mself\u001b[39m\u001b[39m.\u001b[39mjob)):\n\u001b[1;32m---> 90\u001b[0m         \u001b[39mraise\u001b[39;00m \u001b[39mEnvironmentError\u001b[39;00m(\u001b[39m\"\u001b[39m\u001b[39mJob with key \u001b[39m\u001b[39m{}\u001b[39;00m\u001b[39m failed with an exception: \u001b[39m\u001b[39m{}\u001b[39;00m\u001b[39m\\n\u001b[39;00m\u001b[39mstacktrace: \u001b[39m\u001b[39m\"\u001b[39m\n\u001b[0;32m     91\u001b[0m                                \u001b[39m\"\u001b[39m\u001b[39m\\n\u001b[39;00m\u001b[39m{}\u001b[39;00m\u001b[39m\"\u001b[39m\u001b[39m.\u001b[39mformat(\u001b[39mself\u001b[39m\u001b[39m.\u001b[39mjob_key, \u001b[39mself\u001b[39m\u001b[39m.\u001b[39mexception, \u001b[39mself\u001b[39m\u001b[39m.\u001b[39mjob[\u001b[39m\"\u001b[39m\u001b[39mstacktrace\u001b[39m\u001b[39m\"\u001b[39m]))\n\u001b[0;32m     92\u001b[0m     \u001b[39melse\u001b[39;00m:\n\u001b[0;32m     93\u001b[0m         \u001b[39mraise\u001b[39;00m \u001b[39mEnvironmentError\u001b[39;00m(\u001b[39m\"\u001b[39m\u001b[39mJob with key \u001b[39m\u001b[39m%s\u001b[39;00m\u001b[39m failed with an exception: \u001b[39m\u001b[39m%s\u001b[39;00m\u001b[39m\"\u001b[39m \u001b[39m%\u001b[39m (\u001b[39mself\u001b[39m\u001b[39m.\u001b[39mjob_key, \u001b[39mself\u001b[39m\u001b[39m.\u001b[39mexception))\n",
      "\u001b[1;31mOSError\u001b[0m: Job with key $03017f00000132d4ffffffff$_baa05f74b3125a8f9868932d544449f7 failed with an exception: water.exceptions.H2OAutoMLException: Aborting AutoML after too many consecutive model failures\nstacktrace: \nwater.exceptions.H2OAutoMLException: Aborting AutoML after too many consecutive model failures\r\n\tat ai.h2o.automl.AutoML.learn(AutoML.java:776)\r\n\tat ai.h2o.automl.AutoML.run(AutoML.java:494)\r\n\tat ai.h2o.automl.H2OJob$1.compute2(H2OJob.java:33)\r\n\tat water.H2O$H2OCountedCompleter.compute(H2O.java:1677)\r\n\tat jsr166y.CountedCompleter.exec(CountedCompleter.java:468)\r\n\tat jsr166y.ForkJoinTask.doExec(ForkJoinTask.java:263)\r\n\tat jsr166y.ForkJoinPool$WorkQueue.runTask(ForkJoinPool.java:976)\r\n\tat jsr166y.ForkJoinPool.runWorker(ForkJoinPool.java:1479)\r\n\tat jsr166y.ForkJoinWorkerThread.run(ForkJoinWorkerThread.java:104)\r\n"
     ]
    }
   ],
   "source": [
    "\n",
    "aml.train(x ,y, training_frame = train_df)"
   ]
  }
 ],
 "metadata": {
  "kernelspec": {
   "display_name": "Python 3.9.12 ('base')",
   "language": "python",
   "name": "python3"
  },
  "language_info": {
   "codemirror_mode": {
    "name": "ipython",
    "version": 3
   },
   "file_extension": ".py",
   "mimetype": "text/x-python",
   "name": "python",
   "nbconvert_exporter": "python",
   "pygments_lexer": "ipython3",
   "version": "3.9.12"
  },
  "orig_nbformat": 4,
  "vscode": {
   "interpreter": {
    "hash": "323f44a0339732fef255846d925f5b3ed98494339ce60dcf5ce8db0a4f53aab8"
   }
  }
 },
 "nbformat": 4,
 "nbformat_minor": 2
}
